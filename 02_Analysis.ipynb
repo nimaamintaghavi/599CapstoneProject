{
 "cells": [
  {
   "cell_type": "code",
   "execution_count": 76,
   "id": "8bfbd00b-12bb-4730-b60b-c9ee8d5072e3",
   "metadata": {},
   "outputs": [
    {
     "name": "stdout",
     "output_type": "stream",
     "text": [
      "Note: you may need to restart the kernel to use updated packages.\n"
     ]
    },
    {
     "name": "stderr",
     "output_type": "stream",
     "text": [
      "2022-11-14 08:19:11,610\tERROR worker.py:401 -- Unhandled error (suppress with 'RAY_IGNORE_UNHANDLED_ERRORS=1'): \u001b[36mray::apply_list_of_funcs()\u001b[39m (pid=8577, ip=169.255.255.2)\n",
      "  File \"/opt/conda/lib/python3.7/site-packages/modin/core/execution/ray/implementations/pandas_on_ray/partitioning/partition.py\", line 479, in apply_list_of_funcs\n",
      "    partition = func(partition, *args, **kwargs)\n",
      "  File \"/opt/conda/lib/python3.7/site-packages/modin/core/dataframe/algebra/map.py\", line 48, in <lambda>\n",
      "    lambda x: function(x, *args, **kwargs), *call_args, **call_kwds\n",
      "  File \"/opt/conda/lib/python3.7/site-packages/pandas/core/frame.py\", line 8825, in applymap\n",
      "    return self.apply(infer).__finalize__(self, \"applymap\")\n",
      "  File \"/opt/conda/lib/python3.7/site-packages/pandas/core/frame.py\", line 8740, in apply\n",
      "    return op.apply()\n",
      "  File \"/opt/conda/lib/python3.7/site-packages/pandas/core/apply.py\", line 688, in apply\n",
      "    return self.apply_standard()\n",
      "  File \"/opt/conda/lib/python3.7/site-packages/pandas/core/apply.py\", line 812, in apply_standard\n",
      "    results, res_index = self.apply_series_generator()\n",
      "  File \"/opt/conda/lib/python3.7/site-packages/pandas/core/apply.py\", line 828, in apply_series_generator\n",
      "    results[i] = self.f(v)\n",
      "  File \"/opt/conda/lib/python3.7/site-packages/pandas/core/frame.py\", line 8823, in infer\n",
      "    return lib.map_infer(x.astype(object)._values, func, ignore_na=ignore_na)\n",
      "  File \"pandas/_libs/lib.pyx\", line 2859, in pandas._libs.lib.map_infer\n",
      "  File \"/opt/conda/lib/python3.7/site-packages/modin/pandas/series.py\", line 1260, in <lambda>\n",
      "    if pandas.isnull(s) is not True or na_action is None\n",
      "  File \"/root/modules/Support.py\", line 42, in CleanText\n",
      "    else:\n",
      "AttributeError: 'float' object has no attribute 'decode'\n",
      "2022-11-14 08:19:11,611\tERROR worker.py:401 -- Unhandled error (suppress with 'RAY_IGNORE_UNHANDLED_ERRORS=1'): \u001b[36mray::apply_list_of_funcs()\u001b[39m (pid=8577, ip=169.255.255.2)\n",
      "  File \"/opt/conda/lib/python3.7/site-packages/modin/core/execution/ray/implementations/pandas_on_ray/partitioning/partition.py\", line 479, in apply_list_of_funcs\n",
      "    partition = func(partition, *args, **kwargs)\n",
      "  File \"/opt/conda/lib/python3.7/site-packages/modin/core/dataframe/algebra/map.py\", line 48, in <lambda>\n",
      "    lambda x: function(x, *args, **kwargs), *call_args, **call_kwds\n",
      "  File \"/opt/conda/lib/python3.7/site-packages/pandas/core/frame.py\", line 8825, in applymap\n",
      "    return self.apply(infer).__finalize__(self, \"applymap\")\n",
      "  File \"/opt/conda/lib/python3.7/site-packages/pandas/core/frame.py\", line 8740, in apply\n",
      "    return op.apply()\n",
      "  File \"/opt/conda/lib/python3.7/site-packages/pandas/core/apply.py\", line 688, in apply\n",
      "    return self.apply_standard()\n",
      "  File \"/opt/conda/lib/python3.7/site-packages/pandas/core/apply.py\", line 812, in apply_standard\n",
      "    results, res_index = self.apply_series_generator()\n",
      "  File \"/opt/conda/lib/python3.7/site-packages/pandas/core/apply.py\", line 828, in apply_series_generator\n",
      "    results[i] = self.f(v)\n",
      "  File \"/opt/conda/lib/python3.7/site-packages/pandas/core/frame.py\", line 8823, in infer\n",
      "    return lib.map_infer(x.astype(object)._values, func, ignore_na=ignore_na)\n",
      "  File \"pandas/_libs/lib.pyx\", line 2859, in pandas._libs.lib.map_infer\n",
      "  File \"/opt/conda/lib/python3.7/site-packages/modin/pandas/series.py\", line 1260, in <lambda>\n",
      "    if pandas.isnull(s) is not True or na_action is None\n",
      "  File \"/root/modules/Support.py\", line 42, in CleanText\n",
      "    else:\n",
      "AttributeError: 'float' object has no attribute 'decode'\n",
      "2022-11-14 08:19:11,612\tERROR worker.py:401 -- Unhandled error (suppress with 'RAY_IGNORE_UNHANDLED_ERRORS=1'): \u001b[36mray::apply_list_of_funcs()\u001b[39m (pid=8577, ip=169.255.255.2)\n",
      "  File \"/opt/conda/lib/python3.7/site-packages/modin/core/execution/ray/implementations/pandas_on_ray/partitioning/partition.py\", line 479, in apply_list_of_funcs\n",
      "    partition = func(partition, *args, **kwargs)\n",
      "  File \"/opt/conda/lib/python3.7/site-packages/modin/core/dataframe/algebra/map.py\", line 48, in <lambda>\n",
      "    lambda x: function(x, *args, **kwargs), *call_args, **call_kwds\n",
      "  File \"/opt/conda/lib/python3.7/site-packages/pandas/core/frame.py\", line 8825, in applymap\n",
      "    return self.apply(infer).__finalize__(self, \"applymap\")\n",
      "  File \"/opt/conda/lib/python3.7/site-packages/pandas/core/frame.py\", line 8740, in apply\n",
      "    return op.apply()\n",
      "  File \"/opt/conda/lib/python3.7/site-packages/pandas/core/apply.py\", line 688, in apply\n",
      "    return self.apply_standard()\n",
      "  File \"/opt/conda/lib/python3.7/site-packages/pandas/core/apply.py\", line 812, in apply_standard\n",
      "    results, res_index = self.apply_series_generator()\n",
      "  File \"/opt/conda/lib/python3.7/site-packages/pandas/core/apply.py\", line 828, in apply_series_generator\n",
      "    results[i] = self.f(v)\n",
      "  File \"/opt/conda/lib/python3.7/site-packages/pandas/core/frame.py\", line 8823, in infer\n",
      "    return lib.map_infer(x.astype(object)._values, func, ignore_na=ignore_na)\n",
      "  File \"pandas/_libs/lib.pyx\", line 2859, in pandas._libs.lib.map_infer\n",
      "  File \"/opt/conda/lib/python3.7/site-packages/modin/pandas/series.py\", line 1260, in <lambda>\n",
      "    if pandas.isnull(s) is not True or na_action is None\n",
      "  File \"/root/modules/Support.py\", line 42, in CleanText\n",
      "    else:\n",
      "AttributeError: 'float' object has no attribute 'decode'\n",
      "2022-11-14 08:19:17,276\tERROR worker.py:401 -- Unhandled error (suppress with 'RAY_IGNORE_UNHANDLED_ERRORS=1'): \u001b[36mray::apply_list_of_funcs()\u001b[39m (pid=8577, ip=169.255.255.2)\n",
      "  File \"/opt/conda/lib/python3.7/site-packages/modin/core/execution/ray/implementations/pandas_on_ray/partitioning/partition.py\", line 479, in apply_list_of_funcs\n",
      "    partition = func(partition, *args, **kwargs)\n",
      "  File \"/opt/conda/lib/python3.7/site-packages/modin/core/dataframe/algebra/map.py\", line 48, in <lambda>\n",
      "    lambda x: function(x, *args, **kwargs), *call_args, **call_kwds\n",
      "  File \"/opt/conda/lib/python3.7/site-packages/pandas/core/frame.py\", line 8825, in applymap\n",
      "    return self.apply(infer).__finalize__(self, \"applymap\")\n",
      "  File \"/opt/conda/lib/python3.7/site-packages/pandas/core/frame.py\", line 8740, in apply\n",
      "    return op.apply()\n",
      "  File \"/opt/conda/lib/python3.7/site-packages/pandas/core/apply.py\", line 688, in apply\n",
      "    return self.apply_standard()\n",
      "  File \"/opt/conda/lib/python3.7/site-packages/pandas/core/apply.py\", line 812, in apply_standard\n",
      "    results, res_index = self.apply_series_generator()\n",
      "  File \"/opt/conda/lib/python3.7/site-packages/pandas/core/apply.py\", line 828, in apply_series_generator\n",
      "    results[i] = self.f(v)\n",
      "  File \"/opt/conda/lib/python3.7/site-packages/pandas/core/frame.py\", line 8823, in infer\n",
      "    return lib.map_infer(x.astype(object)._values, func, ignore_na=ignore_na)\n",
      "  File \"pandas/_libs/lib.pyx\", line 2859, in pandas._libs.lib.map_infer\n",
      "  File \"/opt/conda/lib/python3.7/site-packages/modin/pandas/series.py\", line 1260, in <lambda>\n",
      "    if pandas.isnull(s) is not True or na_action is None\n",
      "  File \"/root/modules/Support.py\", line 42, in CleanText\n",
      "    else:\n",
      "AttributeError: 'float' object has no attribute 'decode'\n"
     ]
    }
   ],
   "source": [
    "# pip freeze > requirements.txt"
   ]
  },
  {
   "cell_type": "code",
   "execution_count": 39,
   "id": "67683a3a-effc-4ce8-98d5-d45459822b94",
   "metadata": {
    "tags": []
   },
   "outputs": [],
   "source": [
    "import warnings, os\n",
    "warnings.filterwarnings(\"ignore\")\n",
    "from dotenv import load_dotenv\n",
    "load_dotenv('env')\n",
    "import sqlite3\n",
    "import pandas as pd\n",
    "from collections import Counter\n",
    "from itertools import chain\n",
    "from sklearn.feature_extraction.text import CountVectorizer\n",
    "from spacy.lang.en.stop_words import STOP_WORDS as stopwords\n",
    "from sklearn.decomposition import LatentDirichletAllocation\n",
    "import pyLDAvis\n",
    "import pyLDAvis.sklearn\n",
    "import spacy\n",
    "from importlib import reload\n",
    "from modules import DataCollection, Support\n",
    "reload(Support)\n",
    "reload(DataCollection)\n",
    "from modules.Support import Corpus, Business, TokenCleaner"
   ]
  },
  {
   "cell_type": "code",
   "execution_count": 10,
   "id": "9508e7fe-61a1-4823-9c80-e7c9a9df2514",
   "metadata": {},
   "outputs": [
    {
     "name": "stderr",
     "output_type": "stream",
     "text": [
      "2022-11-14 06:47:57,417\tINFO worker.py:1528 -- Started a local Ray instance.\n"
     ]
    }
   ],
   "source": [
    "import ray, os\n",
    "ray.init(num_cpus=32)\n",
    "os.environ[\"MODIN_ENGINE\"] = \"ray\"\n",
    "import modin.pandas as md"
   ]
  },
  {
   "cell_type": "code",
   "execution_count": 38,
   "id": "0e660a7e-ab6d-4df4-8f03-1e1f56979080",
   "metadata": {},
   "outputs": [],
   "source": [
    "business = md.read_csv('data/business.csv', compression = 'zip')\n",
    "review = md.read_csv('data/review.csv', compression = 'zip')"
   ]
  },
  {
   "cell_type": "code",
   "execution_count": 69,
   "id": "6e847ac1-13fc-41ec-a584-314f24933705",
   "metadata": {},
   "outputs": [],
   "source": [
    "review_text = review[['review_id', 'text']]"
   ]
  },
  {
   "cell_type": "code",
   "execution_count": null,
   "id": "a457c284-c03e-408d-be5d-094eccde069a",
   "metadata": {},
   "outputs": [],
   "source": [
    "tc = TokenCleaner()\n",
    "review_text['text_cleaned'] = review_text['text'].apply(tc.CleanText)"
   ]
  },
  {
   "cell_type": "code",
   "execution_count": 34,
   "id": "0f7a0963-144c-41db-b79e-e252d4f9c3b8",
   "metadata": {},
   "outputs": [
    {
     "data": {
      "text/html": [
       "<div>\n",
       "<style scoped>\n",
       "    .dataframe tbody tr th:only-of-type {\n",
       "        vertical-align: middle;\n",
       "    }\n",
       "\n",
       "    .dataframe tbody tr th {\n",
       "        vertical-align: top;\n",
       "    }\n",
       "\n",
       "    .dataframe thead th {\n",
       "        text-align: right;\n",
       "    }\n",
       "</style>\n",
       "<table border=\"1\" class=\"dataframe\">\n",
       "  <thead>\n",
       "    <tr style=\"text-align: right;\">\n",
       "      <th></th>\n",
       "      <th>review_id</th>\n",
       "      <th>text_cleaned</th>\n",
       "    </tr>\n",
       "  </thead>\n",
       "  <tbody>\n",
       "    <tr>\n",
       "      <th>0</th>\n",
       "      <td>KU_O5udG6zpxOg-VcAEodg</td>\n",
       "      <td>[decid, eat, awar, go, take, 2, hour, begin, e...</td>\n",
       "    </tr>\n",
       "    <tr>\n",
       "      <th>1</th>\n",
       "      <td>saUsX_uimxRlCVr67Z4Jig</td>\n",
       "      <td>[famili, diner, buffet, eclect, assort, larg, ...</td>\n",
       "    </tr>\n",
       "    <tr>\n",
       "      <th>2</th>\n",
       "      <td>AqPFMleE6RsU23_auESxiA</td>\n",
       "      <td>[wow, yummi, differ, delici, favorit, lamb, cu...</td>\n",
       "    </tr>\n",
       "    <tr>\n",
       "      <th>3</th>\n",
       "      <td>Sx8TMOWLNuJBWer-0pcmoA</td>\n",
       "      <td>[cute, interior, owner, gave, us, tour, upcom,...</td>\n",
       "    </tr>\n",
       "    <tr>\n",
       "      <th>4</th>\n",
       "      <td>JrIxlS1TzJ-iCu79ul40cQ</td>\n",
       "      <td>[long, term, frequent, custom, thi, establish,...</td>\n",
       "    </tr>\n",
       "  </tbody>\n",
       "</table>\n",
       "</div>"
      ],
      "text/plain": [
       "                review_id                                       text_cleaned\n",
       "0  KU_O5udG6zpxOg-VcAEodg  [decid, eat, awar, go, take, 2, hour, begin, e...\n",
       "1  saUsX_uimxRlCVr67Z4Jig  [famili, diner, buffet, eclect, assort, larg, ...\n",
       "2  AqPFMleE6RsU23_auESxiA  [wow, yummi, differ, delici, favorit, lamb, cu...\n",
       "3  Sx8TMOWLNuJBWer-0pcmoA  [cute, interior, owner, gave, us, tour, upcom,...\n",
       "4  JrIxlS1TzJ-iCu79ul40cQ  [long, term, frequent, custom, thi, establish,..."
      ]
     },
     "execution_count": 34,
     "metadata": {},
     "output_type": "execute_result"
    }
   ],
   "source": [
    "text_tokenized = review_text[['review_id', 'text_cleaned']]\n",
    "text_tokenized.head()"
   ]
  },
  {
   "cell_type": "code",
   "execution_count": 54,
   "id": "cbba43bf-129c-4ec1-aba4-2aeedb5dc739",
   "metadata": {},
   "outputs": [],
   "source": [
    "db = sqlite3.connect('database.db')"
   ]
  },
  {
   "cell_type": "code",
   "execution_count": 55,
   "id": "e2ff017b-7f4e-458c-b4ea-5d8c247d4d26",
   "metadata": {},
   "outputs": [],
   "source": [
    "review._to_pandas().to_sql('review', db, if_exists='replace', index=False)\n",
    "db.commit()"
   ]
  },
  {
   "cell_type": "code",
   "execution_count": 56,
   "id": "4d9bd8fc-22a0-412d-9a45-3a8f6956a5f6",
   "metadata": {},
   "outputs": [],
   "source": [
    "business._to_pandas().to_sql('business', db, if_exists='replace', index=False)\n",
    "db.commit()"
   ]
  },
  {
   "cell_type": "code",
   "execution_count": 57,
   "id": "c9a4f0a3-6783-47c7-b39a-9c94c4da3690",
   "metadata": {},
   "outputs": [],
   "source": [
    "text_tokenized._to_pandas().to_sql('text_tokenized', db, if_exists='replace', index=False)\n",
    "db.commit()"
   ]
  },
  {
   "cell_type": "code",
   "execution_count": 72,
   "id": "bbe21f82-de1e-40c8-9935-9a7df23a22a6",
   "metadata": {},
   "outputs": [],
   "source": [
    "s3_client = DataCollection.s3_client()\n",
    "s3_client.upload_file('database.db', 's3fld', '599Team12/database.db')"
   ]
  },
  {
   "cell_type": "code",
   "execution_count": 29,
   "id": "de93f975-fa99-4434-8786-fc346521d7f1",
   "metadata": {
    "tags": []
   },
   "outputs": [],
   "source": [
    "# use itertools to count  all the words in the text_cleaned column\n",
    "word_counts = Counter(chain.from_iterable(review_text['text_cleaned']))\n",
    "\n",
    "# convert the word_counts dict to a dataframe and sort it by the count\n",
    "word_counts = pd.DataFrame.from_dict(word_counts, orient='index').reset_index()\n",
    "word_counts.columns = ['word', 'count']\n",
    "word_counts = word_counts.sort_values(by='count', ascending=False)\n",
    "word_counts.head()"
   ]
  }
 ],
 "metadata": {
  "instance_type": "ml.m5.8xlarge",
  "kernelspec": {
   "display_name": "Python 3 (Data Science)",
   "language": "python",
   "name": "python3__SAGEMAKER_INTERNAL__arn:aws:sagemaker:us-west-1:742091327244:image/datascience-1.0"
  },
  "language_info": {
   "codemirror_mode": {
    "name": "ipython",
    "version": 3
   },
   "file_extension": ".py",
   "mimetype": "text/x-python",
   "name": "python",
   "nbconvert_exporter": "python",
   "pygments_lexer": "ipython3",
   "version": "3.7.10"
  }
 },
 "nbformat": 4,
 "nbformat_minor": 5
}
