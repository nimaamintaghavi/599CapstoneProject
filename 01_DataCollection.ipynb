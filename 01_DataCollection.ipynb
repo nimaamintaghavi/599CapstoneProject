{
 "cells": [
  {
   "cell_type": "code",
   "execution_count": 1,
   "metadata": {},
   "outputs": [
    {
     "data": {
      "text/plain": [
       "True"
      ]
     },
     "execution_count": 1,
     "metadata": {},
     "output_type": "execute_result"
    }
   ],
   "source": [
    "import os\n",
    "import boto3\n",
    "from botocore.config import Config\n",
    "from dotenv import load_dotenv\n",
    "import pandas as pd\n",
    "import sqlite3\n",
    "from sspipe import p, px\n",
    "load_dotenv('env')"
   ]
  },
  {
   "attachments": {},
   "cell_type": "markdown",
   "metadata": {},
   "source": [
    "Download the raw files to local directory"
   ]
  },
  {
   "cell_type": "code",
   "execution_count": 2,
   "metadata": {},
   "outputs": [],
   "source": [
    "folder_name = 'raw_data'\n",
    "\n",
    "def s3_client():\n",
    "    config = Config(s3={\"use_accelerate_endpoint\": True, \"addressing_style\": \"path\"})\n",
    "    s3_resource = boto3.resource(\"s3\", config=config,\n",
    "                     aws_access_key_id = os.getenv('aws_access_key_id'),             \n",
    "                     aws_secret_access_key = os.getenv('aws_secret_access_key'),\n",
    "                     region_name = os.getenv('region_name'))\n",
    "    \n",
    "    return s3_resource.meta.client\n",
    "    \n",
    "s3_client = s3_client()\n",
    "\n",
    "# create directory 'raw_data' if it does not exist yet\n",
    "if not os.path.exists(folder_name):\n",
    "    os.makedirs(folder_name)\n",
    "    \n",
    "# get names of all files in s3fld/599Team12/raw_data/ if size > 0\n",
    "objects = s3_client.list_objects(Bucket='s3fld', Prefix=f'599Team12/{folder_name}')['Contents']\n",
    "file_names = [obj['Key'] for obj in objects if obj['Size'] > 0]\n",
    "\n",
    "# download each file to local directory\n",
    "for file_name in file_names:   \n",
    "    if not os.path.exists(folder_name + '/' + file_name.split('/')[-1]):\n",
    "        s3_client.download_file('s3fld', file_name,  folder_name + '/' + file_name.split('/')[-1])"
   ]
  },
  {
   "attachments": {},
   "cell_type": "markdown",
   "metadata": {},
   "source": [
    "The code below takes a `folder_name` and `database_name` as input. It then reads all the files in the specified folder and creates a Pandas DataFrame for each file. The DataFrame will be stored in a `sqlite database`. For example, if `folder_name` contains a file named `foo.csv`, the database will have a table with name `foo`."
   ]
  },
  {
   "cell_type": "code",
   "execution_count": 3,
   "metadata": {},
   "outputs": [],
   "source": [
    "def get_database(folder_name='raw_data', database_name='database.db'):\n",
    "    if os.path.exists(database_name):\n",
    "        return sqlite3.connect(database_name)\n",
    "    \n",
    "    db = sqlite3.connect(database_name)\n",
    "\n",
    "    for file in os.listdir(folder_name):\n",
    "        name = file.split('.')[0]\n",
    "        print(f'Reading `{name}` dataframe')\n",
    "        data = pd.read_csv(f'{folder_name}/{file}', encoding='utf-8')\n",
    "        data = data.loc[:, ~data.columns.str.contains('^Unnamed')]\n",
    "        data.to_sql(name, db, if_exists='replace', index=False)  \n",
    "    \n",
    "    db.commit()\n",
    "    return db\n",
    "\n",
    "db = get_database()"
   ]
  },
  {
   "attachments": {},
   "cell_type": "markdown",
   "metadata": {},
   "source": [
    "Below will ensure that tables are created and the database can be queried successfully."
   ]
  },
  {
   "cell_type": "code",
   "execution_count": 4,
   "metadata": {},
   "outputs": [
    {
     "data": {
      "text/html": [
       "<div>\n",
       "<style scoped>\n",
       "    .dataframe tbody tr th:only-of-type {\n",
       "        vertical-align: middle;\n",
       "    }\n",
       "\n",
       "    .dataframe tbody tr th {\n",
       "        vertical-align: top;\n",
       "    }\n",
       "\n",
       "    .dataframe thead th {\n",
       "        text-align: right;\n",
       "    }\n",
       "</style>\n",
       "<table border=\"1\" class=\"dataframe\">\n",
       "  <thead>\n",
       "    <tr style=\"text-align: right;\">\n",
       "      <th></th>\n",
       "      <th>date</th>\n",
       "      <th>stars</th>\n",
       "      <th>text</th>\n",
       "      <th>business_name</th>\n",
       "      <th>city</th>\n",
       "    </tr>\n",
       "  </thead>\n",
       "  <tbody>\n",
       "    <tr>\n",
       "      <th>0</th>\n",
       "      <td>2018-07-07 22:09:11</td>\n",
       "      <td>3</td>\n",
       "      <td>If you decide to eat here, just be aware it is...</td>\n",
       "      <td>Turning Point of North Wales</td>\n",
       "      <td>North Wales</td>\n",
       "    </tr>\n",
       "    <tr>\n",
       "      <th>1</th>\n",
       "      <td>2012-01-03 15:28:18</td>\n",
       "      <td>5</td>\n",
       "      <td>I've taken a lot of spin classes over the year...</td>\n",
       "      <td>Body Cycle Spinning Studio</td>\n",
       "      <td>Philadelphia</td>\n",
       "    </tr>\n",
       "    <tr>\n",
       "      <th>2</th>\n",
       "      <td>2014-02-05 20:30:30</td>\n",
       "      <td>3</td>\n",
       "      <td>Family diner. Had the buffet. Eclectic assortm...</td>\n",
       "      <td>Kettle Restaurant</td>\n",
       "      <td>Tucson</td>\n",
       "    </tr>\n",
       "    <tr>\n",
       "      <th>3</th>\n",
       "      <td>2015-01-04 00:01:03</td>\n",
       "      <td>5</td>\n",
       "      <td>Wow!  Yummy, different,  delicious.   Our favo...</td>\n",
       "      <td>Zaika</td>\n",
       "      <td>Philadelphia</td>\n",
       "    </tr>\n",
       "    <tr>\n",
       "      <th>4</th>\n",
       "      <td>2017-01-14 20:54:15</td>\n",
       "      <td>4</td>\n",
       "      <td>Cute interior and owner (?) gave us tour of up...</td>\n",
       "      <td>Melt</td>\n",
       "      <td>New Orleans</td>\n",
       "    </tr>\n",
       "  </tbody>\n",
       "</table>\n",
       "</div>"
      ],
      "text/plain": [
       "                  date  stars  \\\n",
       "0  2018-07-07 22:09:11      3   \n",
       "1  2012-01-03 15:28:18      5   \n",
       "2  2014-02-05 20:30:30      3   \n",
       "3  2015-01-04 00:01:03      5   \n",
       "4  2017-01-14 20:54:15      4   \n",
       "\n",
       "                                                text  \\\n",
       "0  If you decide to eat here, just be aware it is...   \n",
       "1  I've taken a lot of spin classes over the year...   \n",
       "2  Family diner. Had the buffet. Eclectic assortm...   \n",
       "3  Wow!  Yummy, different,  delicious.   Our favo...   \n",
       "4  Cute interior and owner (?) gave us tour of up...   \n",
       "\n",
       "                  business_name          city  \n",
       "0  Turning Point of North Wales   North Wales  \n",
       "1    Body Cycle Spinning Studio  Philadelphia  \n",
       "2             Kettle Restaurant        Tucson  \n",
       "3                         Zaika  Philadelphia  \n",
       "4                          Melt   New Orleans  "
      ]
     },
     "execution_count": 4,
     "metadata": {},
     "output_type": "execute_result"
    }
   ],
   "source": [
    "sample_query = \"\"\"\n",
    "    SELECT \n",
    "        `review`.`date`, \n",
    "        `review`.`stars`, \n",
    "        `review`.`text`,\n",
    "        `business`.`name` AS `business_name`,\n",
    "        `business`.`city`\n",
    "            \n",
    "    FROM `review` \n",
    "    \n",
    "    JOIN `business` ON \n",
    "        `review`.`business_id` = `business`.`business_id`\n",
    "            \n",
    "    LIMIT 5\n",
    "    \"\"\"\n",
    "\n",
    "pd.read_sql_query(sample_query, db)"
   ]
  },
  {
   "attachments": {},
   "cell_type": "markdown",
   "metadata": {},
   "source": [
    "Query the data that will be tokinized"
   ]
  },
  {
   "cell_type": "code",
   "execution_count": 5,
   "metadata": {},
   "outputs": [
    {
     "name": "stdout",
     "output_type": "stream",
     "text": [
      "There are 4,724,471 numebr of reviews for restaurants\n"
     ]
    },
    {
     "data": {
      "text/html": [
       "<div>\n",
       "<style scoped>\n",
       "    .dataframe tbody tr th:only-of-type {\n",
       "        vertical-align: middle;\n",
       "    }\n",
       "\n",
       "    .dataframe tbody tr th {\n",
       "        vertical-align: top;\n",
       "    }\n",
       "\n",
       "    .dataframe thead th {\n",
       "        text-align: right;\n",
       "    }\n",
       "</style>\n",
       "<table border=\"1\" class=\"dataframe\">\n",
       "  <thead>\n",
       "    <tr style=\"text-align: right;\">\n",
       "      <th></th>\n",
       "      <th>review_id</th>\n",
       "      <th>date</th>\n",
       "      <th>stars</th>\n",
       "      <th>text</th>\n",
       "      <th>name</th>\n",
       "    </tr>\n",
       "  </thead>\n",
       "  <tbody>\n",
       "    <tr>\n",
       "      <th>647276</th>\n",
       "      <td>FOWMAUp12zVaf-GddCpUUQ</td>\n",
       "      <td>2019-06-27 22:02:44</td>\n",
       "      <td>5</td>\n",
       "      <td>What can I say about a shop that I've loved ev...</td>\n",
       "      <td>The Blind Tiger Cafe - Ybor City</td>\n",
       "    </tr>\n",
       "    <tr>\n",
       "      <th>809507</th>\n",
       "      <td>eBuHOKkx6H9P-zAwuDSAwg</td>\n",
       "      <td>2014-01-21 02:05:43</td>\n",
       "      <td>2</td>\n",
       "      <td>It was kind of odd. It's obviously a fast food...</td>\n",
       "      <td>Steak ’n Shake</td>\n",
       "    </tr>\n",
       "    <tr>\n",
       "      <th>6016548</th>\n",
       "      <td>yre5g393rn2FBdcbdFL_9Q</td>\n",
       "      <td>2019-10-12 01:01:43</td>\n",
       "      <td>2</td>\n",
       "      <td>We've been doing business with Chris's for sev...</td>\n",
       "      <td>Chris' Pizza Village</td>\n",
       "    </tr>\n",
       "    <tr>\n",
       "      <th>6298942</th>\n",
       "      <td>RBLOdFQEVUhgL52vwJuOxw</td>\n",
       "      <td>2018-02-02 01:38:53</td>\n",
       "      <td>2</td>\n",
       "      <td>Overpriced and bland food. A meat and three sh...</td>\n",
       "      <td>Bishop's Meat and Three</td>\n",
       "    </tr>\n",
       "    <tr>\n",
       "      <th>3655034</th>\n",
       "      <td>tKRlCpQRAYMAySNIdJDOUw</td>\n",
       "      <td>2018-06-01 21:48:55</td>\n",
       "      <td>5</td>\n",
       "      <td>Really friendly and attentive bartenders, grea...</td>\n",
       "      <td>Bridge Tap House and Wine Bar</td>\n",
       "    </tr>\n",
       "  </tbody>\n",
       "</table>\n",
       "</div>"
      ],
      "text/plain": [
       "                      review_id                 date  stars  \\\n",
       "647276   FOWMAUp12zVaf-GddCpUUQ  2019-06-27 22:02:44      5   \n",
       "809507   eBuHOKkx6H9P-zAwuDSAwg  2014-01-21 02:05:43      2   \n",
       "6016548  yre5g393rn2FBdcbdFL_9Q  2019-10-12 01:01:43      2   \n",
       "6298942  RBLOdFQEVUhgL52vwJuOxw  2018-02-02 01:38:53      2   \n",
       "3655034  tKRlCpQRAYMAySNIdJDOUw  2018-06-01 21:48:55      5   \n",
       "\n",
       "                                                      text  \\\n",
       "647276   What can I say about a shop that I've loved ev...   \n",
       "809507   It was kind of odd. It's obviously a fast food...   \n",
       "6016548  We've been doing business with Chris's for sev...   \n",
       "6298942  Overpriced and bland food. A meat and three sh...   \n",
       "3655034  Really friendly and attentive bartenders, grea...   \n",
       "\n",
       "                                     name  \n",
       "647276   The Blind Tiger Cafe - Ybor City  \n",
       "809507                     Steak ’n Shake  \n",
       "6016548              Chris' Pizza Village  \n",
       "6298942           Bishop's Meat and Three  \n",
       "3655034     Bridge Tap House and Wine Bar  "
      ]
     },
     "execution_count": 5,
     "metadata": {},
     "output_type": "execute_result"
    }
   ],
   "source": [
    "sql_business_category = 'SELECT `business_id`, `name`, `categories` FROM `business`'\n",
    "sql_reviews_business_id = 'SELECT `business_id`, `review_id`, `date`, `stars`,`text` FROM `review`'\n",
    "\n",
    "restaurants = (pd.read_sql(sql_business_category, db)\n",
    "               | px.query(\"categories.str.contains('Restaurants') == True\"))\n",
    "\n",
    "reviews_for_resturants = (pd.read_sql(sql_reviews_business_id, db)\n",
    "                          | px[px.business_id.isin(restaurants.business_id)]\n",
    "                          | px.join(restaurants.set_index('business_id'), on='business_id')\n",
    "                          | px[['business_id', 'review_id' , 'date', 'stars', 'text', 'name' ]]\n",
    ")\n",
    "\n",
    "print(f'There are {len(reviews_for_resturants):,} numebr of reviews for restaurants')\n",
    "reviews_for_resturants.sample(5)"
   ]
  },
  {
   "attachments": {},
   "cell_type": "markdown",
   "metadata": {},
   "source": [
    "save the related data to a table for easy access"
   ]
  },
  {
   "cell_type": "code",
   "execution_count": 6,
   "metadata": {},
   "outputs": [],
   "source": [
    "reviews_for_resturants.to_sql('resturants_review', db, if_exists='replace', index=False)\n",
    "db.close()"
   ]
  }
 ],
 "metadata": {
  "kernelspec": {
   "display_name": "venv",
   "language": "python",
   "name": "python3"
  },
  "language_info": {
   "codemirror_mode": {
    "name": "ipython",
    "version": 3
   },
   "file_extension": ".py",
   "mimetype": "text/x-python",
   "name": "python",
   "nbconvert_exporter": "python",
   "pygments_lexer": "ipython3",
   "version": "3.9.13 (tags/v3.9.13:6de2ca5, May 17 2022, 16:36:42) [MSC v.1929 64 bit (AMD64)]"
  },
  "orig_nbformat": 4,
  "vscode": {
   "interpreter": {
    "hash": "a9fc20e1815138d30c667ffde1bd8baef1681fb1fc5d82ed7f911b8c6ab1ce59"
   }
  }
 },
 "nbformat": 4,
 "nbformat_minor": 2
}
